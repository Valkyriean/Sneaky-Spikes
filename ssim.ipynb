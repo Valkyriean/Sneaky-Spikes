{
 "cells": [
  {
   "cell_type": "code",
   "execution_count": 2,
   "metadata": {},
   "outputs": [],
   "source": [
    "import torch\n",
    "import torch.nn.functional as F\n",
    "from poisoned_dataset import PoisonedDataset\n",
    "from datasets import get_dataset\n",
    "import numpy as np\n",
    "from spikingjelly.datasets.n_mnist import NMNIST\n",
    "import copy\n",
    "import os\n",
    "import csv"
   ]
  },
  {
   "cell_type": "code",
   "execution_count": 3,
   "metadata": {},
   "outputs": [],
   "source": [
    "def ssim(img1, img2, K1=0.01, K2=0.03, L=4):\n",
    "    \"\"\"\n",
    "    Compute SSIM (Structural Similarity Index) between two images.\n",
    "    :param img1: First image (torch tensor)\n",
    "    :param img2: Second image (torch tensor)\n",
    "    :param K1: Constant for SSIM (default 0.01)\n",
    "    :param K2: Constant for SSIM (default 0.03)\n",
    "    :param L: Dynamic range of pixel values (default 1 for normalized images)\n",
    "    :return: SSIM value\n",
    "    \"\"\"\n",
    "    C1 = (K1 * L) ** 2\n",
    "    C2 = (K2 * L) ** 2\n",
    "    \n",
    "    mu1 = F.avg_pool2d(img1, 3, 1, 0)\n",
    "    mu2 = F.avg_pool2d(img2, 3, 1, 0)\n",
    "    \n",
    "    sigma1 = F.avg_pool2d(img1 * img1, 3, 1, 0) - mu1 * mu1\n",
    "    sigma2 = F.avg_pool2d(img2 * img2, 3, 1, 0) - mu2 * mu2\n",
    "    sigma12 = F.avg_pool2d(img1 * img2, 3, 1, 0) - mu1 * mu2\n",
    "\n",
    "    ssim_map = ((2 * mu1 * mu2 + C1) * (2 * sigma12 + C2)) / ((mu1 * mu1 + mu2 * mu2 + C1) * (sigma1 + sigma2 + C2))\n",
    "    return ssim_map.mean()\n",
    "\n",
    "def calculate_average_ssim(data_clean, data_backdoored):\n",
    "    \"\"\"\n",
    "    Calculate the average SSIM over all samples, frames, and polarities.\n",
    "    :param data_clean: Clean data (numpy array of shape [N, T, C, H, W])\n",
    "    :param data_backdoored: Backdoored data (numpy array of shape [N, T, C, H, W])\n",
    "    :return: Average SSIM value\n",
    "    \"\"\"\n",
    "    if not torch.is_tensor(data_clean):\n",
    "        data_clean = torch.tensor(data_clean, dtype=torch.float32)\n",
    "    if not torch.is_tensor(data_backdoored):\n",
    "        data_backdoored = torch.tensor(data_backdoored, dtype=torch.float32)\n",
    "\n",
    "    N, T, C, H, W = data_clean.shape\n",
    "    total_ssim = 0.0\n",
    "    count = 0\n",
    "    \n",
    "    for i in range(N):\n",
    "        for t in range(T):\n",
    "            for c in range(C):\n",
    "                img_clean = data_clean[i, t, c].unsqueeze(0).unsqueeze(0)\n",
    "                img_backdoored = data_backdoored[i, t, c].unsqueeze(0).unsqueeze(0)\n",
    "                total_ssim += ssim(img_clean, img_backdoored)\n",
    "                count += 1\n",
    "                \n",
    "    average_ssim = total_ssim / count\n",
    "    return average_ssim"
   ]
  },
  {
   "cell_type": "code",
   "execution_count": 4,
   "metadata": {},
   "outputs": [],
   "source": [
    "def save_result(dataset, epsilon,pos, polarity, trigger_size , trigger_type,\n",
    "                            frame_gap, ssim):\n",
    "    save_path = \"experiments\"\n",
    "    # Create a folder for the experiments, by default named 'experiments'\n",
    "    if not os.path.exists(save_path):\n",
    "        os.makedirs(save_path)\n",
    "\n",
    "    # Create if not exists a csv file, appending the new info\n",
    "    path = '{}/ssim_results.csv'.format(save_path)\n",
    "    header = ['dataset', 'epsilon', 'pos','polarity', 'trigger_size','type', 'frame_gaps', \"ssim\"]\n",
    "\n",
    "    if not os.path.exists(path):\n",
    "        with open(path, 'w') as f:\n",
    "            writer = csv.writer(f)\n",
    "            writer.writerow(header)\n",
    "\n",
    "    # Append the new info to the csv file\n",
    "    with open(path, 'a') as f:\n",
    "        writer = csv.writer(f)\n",
    "        writer.writerow([dataset, epsilon,pos, polarity, trigger_size , trigger_type,\n",
    "                            frame_gap, ssim])"
   ]
  },
  {
   "cell_type": "code",
   "execution_count": 5,
   "metadata": {},
   "outputs": [
    {
     "name": "stdout",
     "output_type": "stream",
     "text": [
      "The directory [data/mnist/frames_number_16_split_by_number] already exists.\n"
     ]
    }
   ],
   "source": [
    "train_set = NMNIST(\"data/mnist\", train=False, data_type='frame',\n",
    "                           split_by='number', frames_number=16)\n",
    "\n",
    "clean_data = np.array([np.array(x[0])for x in train_set])\n",
    "# print(clean_data.shape)\n",
    "\n",
    "# clean_train_data = PoisonedDataset(train_set,0, mode='train', epsilon=0,\n",
    "#                                  pos=\"top-left\", attack_type=\"static\", time_step=16,\n",
    "#                                  trigger_size=0.1, dataname=\"mnist\",\n",
    "#                                  polarity=1, n_masks=2, least=True, most_polarity=True, frame_gap = 1)\n",
    "# poisoned_train_data = PoisonedDataset(train_set,0, mode='train', epsilon=1,\n",
    "#                                  pos=\"top-left\", attack_type=\"static\", time_step=16,\n",
    "#                                  trigger_size=0.1, dataname=\"mnist\",\n",
    "#                                  polarity=1, n_masks=2, least=True, most_polarity=True, frame_gap = 1)"
   ]
  },
  {
   "cell_type": "code",
   "execution_count": 5,
   "metadata": {},
   "outputs": [
    {
     "name": "stdout",
     "output_type": "stream",
     "text": [
      "[!] Generating train Bad Imgs\n",
      "Save frames to [backdoor_static.gif].\n",
      "Injecting Over: Bad Imgs: 10000. Clean Imgs: 0. Epsilon: 1\n",
      "Average SSIM: 0.9952999949455261\n",
      "[!] Generating train Bad Imgs\n",
      "Save frames to [backdoor_rs.gif].\n",
      "Injecting Over: Bad Imgs: 10000. Clean Imgs: 0. Epsilon: 1\n",
      "Average SSIM: 0.9939029216766357\n"
     ]
    }
   ],
   "source": [
    "exp1_types = [\"static\", \"rs\"]\n",
    "epsilons = []\n",
    "dataset=\"mnist\"\n",
    "epsilon=1\n",
    "pos=\"top-left\"\n",
    "polarity=1\n",
    "trigger_size=0.1\n",
    "frame_gap = 1\n",
    "for trigger_type in exp1_types:\n",
    "    poisoned_train_data = PoisonedDataset(train_set,0, mode='train', epsilon=1,\n",
    "                                 pos=\"top-left\", attack_type=trigger_type, time_step=16,\n",
    "                                 trigger_size=0.1, dataname=\"mnist\",\n",
    "                                 polarity=1, n_masks=2, least=True, most_polarity=True, frame_gap = 1)\n",
    "    average_ssim_value = calculate_average_ssim(clean_data, poisoned_train_data.data)\n",
    "    average_ssim_value = float(average_ssim_value)\n",
    "    print(\"Average SSIM:\", average_ssim_value) \n",
    "    save_result(dataset, epsilon,pos, polarity, trigger_size , trigger_type,\n",
    "                            frame_gap, average_ssim_value)\n"
   ]
  },
  {
   "cell_type": "code",
   "execution_count": 6,
   "metadata": {},
   "outputs": [
    {
     "ename": "KeyboardInterrupt",
     "evalue": "",
     "output_type": "error",
     "traceback": [
      "\u001b[0;31m---------------------------------------------------------------------------\u001b[0m",
      "\u001b[0;31mKeyboardInterrupt\u001b[0m                         Traceback (most recent call last)",
      "Cell \u001b[0;32mIn[6], line 9\u001b[0m\n\u001b[1;32m      7\u001b[0m frame_gaps \u001b[38;5;241m=\u001b[39m [\u001b[38;5;241m2\u001b[39m,\u001b[38;5;241m3\u001b[39m,\u001b[38;5;241m4\u001b[39m,\u001b[38;5;241m5\u001b[39m,\u001b[38;5;241m6\u001b[39m,\u001b[38;5;241m7\u001b[39m,\u001b[38;5;241m8\u001b[39m]\n\u001b[1;32m      8\u001b[0m \u001b[38;5;28;01mfor\u001b[39;00m frame_gap \u001b[38;5;129;01min\u001b[39;00m frame_gaps:\n\u001b[0;32m----> 9\u001b[0m     poisoned_train_data \u001b[38;5;241m=\u001b[39m \u001b[43mPoisonedDataset\u001b[49m\u001b[43m(\u001b[49m\u001b[43mtrain_set\u001b[49m\u001b[43m,\u001b[49m\u001b[38;5;241;43m0\u001b[39;49m\u001b[43m,\u001b[49m\u001b[43m \u001b[49m\u001b[43mmode\u001b[49m\u001b[38;5;241;43m=\u001b[39;49m\u001b[38;5;124;43m'\u001b[39;49m\u001b[38;5;124;43mtrain\u001b[39;49m\u001b[38;5;124;43m'\u001b[39;49m\u001b[43m,\u001b[49m\u001b[43m \u001b[49m\u001b[43mepsilon\u001b[49m\u001b[38;5;241;43m=\u001b[39;49m\u001b[38;5;241;43m1\u001b[39;49m\u001b[43m,\u001b[49m\n\u001b[1;32m     10\u001b[0m \u001b[43m                                \u001b[49m\u001b[43mpos\u001b[49m\u001b[38;5;241;43m=\u001b[39;49m\u001b[43mpos\u001b[49m\u001b[43m,\u001b[49m\u001b[43m \u001b[49m\u001b[43mattack_type\u001b[49m\u001b[38;5;241;43m=\u001b[39;49m\u001b[43mtrigger_type\u001b[49m\u001b[43m,\u001b[49m\u001b[43m \u001b[49m\u001b[43mtime_step\u001b[49m\u001b[38;5;241;43m=\u001b[39;49m\u001b[38;5;241;43m16\u001b[39;49m\u001b[43m,\u001b[49m\n\u001b[1;32m     11\u001b[0m \u001b[43m                                \u001b[49m\u001b[43mtrigger_size\u001b[49m\u001b[38;5;241;43m=\u001b[39;49m\u001b[43mtrigger_size\u001b[49m\u001b[43m,\u001b[49m\u001b[43m \u001b[49m\u001b[43mdataname\u001b[49m\u001b[38;5;241;43m=\u001b[39;49m\u001b[43mdataset\u001b[49m\u001b[43m,\u001b[49m\n\u001b[1;32m     12\u001b[0m \u001b[43m                                \u001b[49m\u001b[43mpolarity\u001b[49m\u001b[38;5;241;43m=\u001b[39;49m\u001b[43mpolarity\u001b[49m\u001b[43m,\u001b[49m\u001b[43m \u001b[49m\u001b[43mn_masks\u001b[49m\u001b[38;5;241;43m=\u001b[39;49m\u001b[38;5;241;43m2\u001b[39;49m\u001b[43m,\u001b[49m\u001b[43m \u001b[49m\u001b[43mleast\u001b[49m\u001b[38;5;241;43m=\u001b[39;49m\u001b[38;5;28;43;01mTrue\u001b[39;49;00m\u001b[43m,\u001b[49m\u001b[43m \u001b[49m\u001b[43mmost_polarity\u001b[49m\u001b[38;5;241;43m=\u001b[39;49m\u001b[38;5;28;43;01mTrue\u001b[39;49;00m\u001b[43m,\u001b[49m\u001b[43m \u001b[49m\u001b[43mframe_gap\u001b[49m\u001b[43m \u001b[49m\u001b[38;5;241;43m=\u001b[39;49m\u001b[43m \u001b[49m\u001b[43mframe_gap\u001b[49m\u001b[43m)\u001b[49m\n\u001b[1;32m     13\u001b[0m     average_ssim_value \u001b[38;5;241m=\u001b[39m calculate_average_ssim(clean_data, poisoned_train_data\u001b[38;5;241m.\u001b[39mdata)\n\u001b[1;32m     14\u001b[0m     average_ssim_value \u001b[38;5;241m=\u001b[39m \u001b[38;5;28mfloat\u001b[39m(average_ssim_value)\n",
      "File \u001b[0;32m~/Github/Sneaky-Spikes/poisoned_dataset.py:53\u001b[0m, in \u001b[0;36mPoisonedDataset.__init__\u001b[0;34m(self, dataset, trigger_label, mode, epsilon, pos, attack_type, time_step, trigger_size, dataname, polarity, n_masks, least, most_polarity, frame_gap)\u001b[0m\n\u001b[1;32m     51\u001b[0m     \u001b[38;5;28mself\u001b[39m\u001b[38;5;241m.\u001b[39mtargets \u001b[38;5;241m=\u001b[39m dataset\u001b[38;5;241m.\u001b[39mtargets\n\u001b[1;32m     52\u001b[0m     \u001b[38;5;66;03m# We need the images loaded instead of the paths\u001b[39;00m\n\u001b[0;32m---> 53\u001b[0m     \u001b[38;5;28mself\u001b[39m\u001b[38;5;241m.\u001b[39mdata \u001b[38;5;241m=\u001b[39m np\u001b[38;5;241m.\u001b[39marray([np\u001b[38;5;241m.\u001b[39marray(x[\u001b[38;5;241m0\u001b[39m])\n\u001b[1;32m     54\u001b[0m                          \u001b[38;5;28;01mfor\u001b[39;00m x \u001b[38;5;129;01min\u001b[39;00m dataset])\n\u001b[1;32m     56\u001b[0m \u001b[38;5;28mself\u001b[39m\u001b[38;5;241m.\u001b[39mdevice \u001b[38;5;241m=\u001b[39m \u001b[38;5;124m'\u001b[39m\u001b[38;5;124mcuda\u001b[39m\u001b[38;5;124m'\u001b[39m \u001b[38;5;28;01mif\u001b[39;00m torch\u001b[38;5;241m.\u001b[39mcuda\u001b[38;5;241m.\u001b[39mis_available() \u001b[38;5;28;01melse\u001b[39;00m \u001b[38;5;124m'\u001b[39m\u001b[38;5;124mcpu\u001b[39m\u001b[38;5;124m'\u001b[39m\n\u001b[1;32m     57\u001b[0m \u001b[38;5;28mself\u001b[39m\u001b[38;5;241m.\u001b[39mclass_num \u001b[38;5;241m=\u001b[39m \u001b[38;5;28mlen\u001b[39m(dataset\u001b[38;5;241m.\u001b[39mclasses)\n",
      "File \u001b[0;32m~/Github/Sneaky-Spikes/poisoned_dataset.py:53\u001b[0m, in \u001b[0;36m<listcomp>\u001b[0;34m(.0)\u001b[0m\n\u001b[1;32m     51\u001b[0m     \u001b[38;5;28mself\u001b[39m\u001b[38;5;241m.\u001b[39mtargets \u001b[38;5;241m=\u001b[39m dataset\u001b[38;5;241m.\u001b[39mtargets\n\u001b[1;32m     52\u001b[0m     \u001b[38;5;66;03m# We need the images loaded instead of the paths\u001b[39;00m\n\u001b[0;32m---> 53\u001b[0m     \u001b[38;5;28mself\u001b[39m\u001b[38;5;241m.\u001b[39mdata \u001b[38;5;241m=\u001b[39m np\u001b[38;5;241m.\u001b[39marray([np\u001b[38;5;241m.\u001b[39marray(x[\u001b[38;5;241m0\u001b[39m])\n\u001b[1;32m     54\u001b[0m                          \u001b[38;5;28;01mfor\u001b[39;00m x \u001b[38;5;129;01min\u001b[39;00m dataset])\n\u001b[1;32m     56\u001b[0m \u001b[38;5;28mself\u001b[39m\u001b[38;5;241m.\u001b[39mdevice \u001b[38;5;241m=\u001b[39m \u001b[38;5;124m'\u001b[39m\u001b[38;5;124mcuda\u001b[39m\u001b[38;5;124m'\u001b[39m \u001b[38;5;28;01mif\u001b[39;00m torch\u001b[38;5;241m.\u001b[39mcuda\u001b[38;5;241m.\u001b[39mis_available() \u001b[38;5;28;01melse\u001b[39;00m \u001b[38;5;124m'\u001b[39m\u001b[38;5;124mcpu\u001b[39m\u001b[38;5;124m'\u001b[39m\n\u001b[1;32m     57\u001b[0m \u001b[38;5;28mself\u001b[39m\u001b[38;5;241m.\u001b[39mclass_num \u001b[38;5;241m=\u001b[39m \u001b[38;5;28mlen\u001b[39m(dataset\u001b[38;5;241m.\u001b[39mclasses)\n",
      "File \u001b[0;32m/opt/anaconda3/envs/ss/lib/python3.9/site-packages/torchvision/datasets/folder.py:245\u001b[0m, in \u001b[0;36mDatasetFolder.__getitem__\u001b[0;34m(self, index)\u001b[0m\n\u001b[1;32m    237\u001b[0m \u001b[38;5;250m\u001b[39m\u001b[38;5;124;03m\"\"\"\u001b[39;00m\n\u001b[1;32m    238\u001b[0m \u001b[38;5;124;03mArgs:\u001b[39;00m\n\u001b[1;32m    239\u001b[0m \u001b[38;5;124;03m    index (int): Index\u001b[39;00m\n\u001b[0;32m   (...)\u001b[0m\n\u001b[1;32m    242\u001b[0m \u001b[38;5;124;03m    tuple: (sample, target) where target is class_index of the target class.\u001b[39;00m\n\u001b[1;32m    243\u001b[0m \u001b[38;5;124;03m\"\"\"\u001b[39;00m\n\u001b[1;32m    244\u001b[0m path, target \u001b[38;5;241m=\u001b[39m \u001b[38;5;28mself\u001b[39m\u001b[38;5;241m.\u001b[39msamples[index]\n\u001b[0;32m--> 245\u001b[0m sample \u001b[38;5;241m=\u001b[39m \u001b[38;5;28;43mself\u001b[39;49m\u001b[38;5;241;43m.\u001b[39;49m\u001b[43mloader\u001b[49m\u001b[43m(\u001b[49m\u001b[43mpath\u001b[49m\u001b[43m)\u001b[49m\n\u001b[1;32m    246\u001b[0m \u001b[38;5;28;01mif\u001b[39;00m \u001b[38;5;28mself\u001b[39m\u001b[38;5;241m.\u001b[39mtransform \u001b[38;5;129;01mis\u001b[39;00m \u001b[38;5;129;01mnot\u001b[39;00m \u001b[38;5;28;01mNone\u001b[39;00m:\n\u001b[1;32m    247\u001b[0m     sample \u001b[38;5;241m=\u001b[39m \u001b[38;5;28mself\u001b[39m\u001b[38;5;241m.\u001b[39mtransform(sample)\n",
      "File \u001b[0;32m/opt/anaconda3/envs/ss/lib/python3.9/site-packages/spikingjelly/datasets/__init__.py:169\u001b[0m, in \u001b[0;36mload_npz_frames\u001b[0;34m(file_name)\u001b[0m\n\u001b[1;32m    162\u001b[0m \u001b[38;5;28;01mdef\u001b[39;00m \u001b[38;5;21mload_npz_frames\u001b[39m(file_name: \u001b[38;5;28mstr\u001b[39m) \u001b[38;5;241m-\u001b[39m\u001b[38;5;241m>\u001b[39m np\u001b[38;5;241m.\u001b[39mndarray:\n\u001b[1;32m    163\u001b[0m \u001b[38;5;250m    \u001b[39m\u001b[38;5;124;03m'''\u001b[39;00m\n\u001b[1;32m    164\u001b[0m \u001b[38;5;124;03m    :param file_name: path of the npz file that saves the frames\u001b[39;00m\n\u001b[1;32m    165\u001b[0m \u001b[38;5;124;03m    :type file_name: str\u001b[39;00m\n\u001b[1;32m    166\u001b[0m \u001b[38;5;124;03m    :return: frames\u001b[39;00m\n\u001b[1;32m    167\u001b[0m \u001b[38;5;124;03m    :rtype: np.ndarray\u001b[39;00m\n\u001b[1;32m    168\u001b[0m \u001b[38;5;124;03m    '''\u001b[39;00m\n\u001b[0;32m--> 169\u001b[0m     \u001b[38;5;28;01mreturn\u001b[39;00m \u001b[43mnp\u001b[49m\u001b[38;5;241;43m.\u001b[39;49m\u001b[43mload\u001b[49m\u001b[43m(\u001b[49m\u001b[43mfile_name\u001b[49m\u001b[43m,\u001b[49m\u001b[43m \u001b[49m\u001b[43mallow_pickle\u001b[49m\u001b[38;5;241;43m=\u001b[39;49m\u001b[38;5;28;43;01mTrue\u001b[39;49;00m\u001b[43m)\u001b[49m\u001b[43m[\u001b[49m\u001b[38;5;124;43m'\u001b[39;49m\u001b[38;5;124;43mframes\u001b[39;49m\u001b[38;5;124;43m'\u001b[39;49m\u001b[43m]\u001b[49m\u001b[38;5;241m.\u001b[39mastype(np\u001b[38;5;241m.\u001b[39mfloat32)\n",
      "File \u001b[0;32m/opt/anaconda3/envs/ss/lib/python3.9/site-packages/numpy/lib/npyio.py:253\u001b[0m, in \u001b[0;36mNpzFile.__getitem__\u001b[0;34m(self, key)\u001b[0m\n\u001b[1;32m    251\u001b[0m \u001b[38;5;28;01mif\u001b[39;00m magic \u001b[38;5;241m==\u001b[39m \u001b[38;5;28mformat\u001b[39m\u001b[38;5;241m.\u001b[39mMAGIC_PREFIX:\n\u001b[1;32m    252\u001b[0m     \u001b[38;5;28mbytes\u001b[39m \u001b[38;5;241m=\u001b[39m \u001b[38;5;28mself\u001b[39m\u001b[38;5;241m.\u001b[39mzip\u001b[38;5;241m.\u001b[39mopen(key)\n\u001b[0;32m--> 253\u001b[0m     \u001b[38;5;28;01mreturn\u001b[39;00m \u001b[38;5;28;43mformat\u001b[39;49m\u001b[38;5;241;43m.\u001b[39;49m\u001b[43mread_array\u001b[49m\u001b[43m(\u001b[49m\u001b[38;5;28;43mbytes\u001b[39;49m\u001b[43m,\u001b[49m\n\u001b[1;32m    254\u001b[0m \u001b[43m                             \u001b[49m\u001b[43mallow_pickle\u001b[49m\u001b[38;5;241;43m=\u001b[39;49m\u001b[38;5;28;43mself\u001b[39;49m\u001b[38;5;241;43m.\u001b[39;49m\u001b[43mallow_pickle\u001b[49m\u001b[43m,\u001b[49m\n\u001b[1;32m    255\u001b[0m \u001b[43m                             \u001b[49m\u001b[43mpickle_kwargs\u001b[49m\u001b[38;5;241;43m=\u001b[39;49m\u001b[38;5;28;43mself\u001b[39;49m\u001b[38;5;241;43m.\u001b[39;49m\u001b[43mpickle_kwargs\u001b[49m\u001b[43m)\u001b[49m\n\u001b[1;32m    256\u001b[0m \u001b[38;5;28;01melse\u001b[39;00m:\n\u001b[1;32m    257\u001b[0m     \u001b[38;5;28;01mreturn\u001b[39;00m \u001b[38;5;28mself\u001b[39m\u001b[38;5;241m.\u001b[39mzip\u001b[38;5;241m.\u001b[39mread(key)\n",
      "File \u001b[0;32m/opt/anaconda3/envs/ss/lib/python3.9/site-packages/numpy/lib/format.py:717\u001b[0m, in \u001b[0;36mread_array\u001b[0;34m(fp, allow_pickle, pickle_kwargs)\u001b[0m\n\u001b[1;32m    715\u001b[0m version \u001b[38;5;241m=\u001b[39m read_magic(fp)\n\u001b[1;32m    716\u001b[0m _check_version(version)\n\u001b[0;32m--> 717\u001b[0m shape, fortran_order, dtype \u001b[38;5;241m=\u001b[39m \u001b[43m_read_array_header\u001b[49m\u001b[43m(\u001b[49m\u001b[43mfp\u001b[49m\u001b[43m,\u001b[49m\u001b[43m \u001b[49m\u001b[43mversion\u001b[49m\u001b[43m)\u001b[49m\n\u001b[1;32m    718\u001b[0m \u001b[38;5;28;01mif\u001b[39;00m \u001b[38;5;28mlen\u001b[39m(shape) \u001b[38;5;241m==\u001b[39m \u001b[38;5;241m0\u001b[39m:\n\u001b[1;32m    719\u001b[0m     count \u001b[38;5;241m=\u001b[39m \u001b[38;5;241m1\u001b[39m\n",
      "File \u001b[0;32m/opt/anaconda3/envs/ss/lib/python3.9/site-packages/numpy/lib/format.py:583\u001b[0m, in \u001b[0;36m_read_array_header\u001b[0;34m(fp, version)\u001b[0m\n\u001b[1;32m    581\u001b[0m header \u001b[38;5;241m=\u001b[39m _filter_header(header)\n\u001b[1;32m    582\u001b[0m \u001b[38;5;28;01mtry\u001b[39;00m:\n\u001b[0;32m--> 583\u001b[0m     d \u001b[38;5;241m=\u001b[39m \u001b[43msafe_eval\u001b[49m\u001b[43m(\u001b[49m\u001b[43mheader\u001b[49m\u001b[43m)\u001b[49m\n\u001b[1;32m    584\u001b[0m \u001b[38;5;28;01mexcept\u001b[39;00m \u001b[38;5;167;01mSyntaxError\u001b[39;00m \u001b[38;5;28;01mas\u001b[39;00m e:\n\u001b[1;32m    585\u001b[0m     msg \u001b[38;5;241m=\u001b[39m \u001b[38;5;124m\"\u001b[39m\u001b[38;5;124mCannot parse header: \u001b[39m\u001b[38;5;132;01m{!r}\u001b[39;00m\u001b[38;5;130;01m\\n\u001b[39;00m\u001b[38;5;124mException: \u001b[39m\u001b[38;5;132;01m{!r}\u001b[39;00m\u001b[38;5;124m\"\u001b[39m\n",
      "File \u001b[0;32m/opt/anaconda3/envs/ss/lib/python3.9/site-packages/numpy/lib/utils.py:1007\u001b[0m, in \u001b[0;36msafe_eval\u001b[0;34m(source)\u001b[0m\n\u001b[1;32m   1005\u001b[0m \u001b[38;5;66;03m# Local import to speed up numpy's import time.\u001b[39;00m\n\u001b[1;32m   1006\u001b[0m \u001b[38;5;28;01mimport\u001b[39;00m \u001b[38;5;21;01mast\u001b[39;00m\n\u001b[0;32m-> 1007\u001b[0m \u001b[38;5;28;01mreturn\u001b[39;00m \u001b[43mast\u001b[49m\u001b[38;5;241;43m.\u001b[39;49m\u001b[43mliteral_eval\u001b[49m\u001b[43m(\u001b[49m\u001b[43msource\u001b[49m\u001b[43m)\u001b[49m\n",
      "File \u001b[0;32m/opt/anaconda3/envs/ss/lib/python3.9/ast.py:62\u001b[0m, in \u001b[0;36mliteral_eval\u001b[0;34m(node_or_string)\u001b[0m\n\u001b[1;32m     55\u001b[0m \u001b[38;5;250m\u001b[39m\u001b[38;5;124;03m\"\"\"\u001b[39;00m\n\u001b[1;32m     56\u001b[0m \u001b[38;5;124;03mSafely evaluate an expression node or a string containing a Python\u001b[39;00m\n\u001b[1;32m     57\u001b[0m \u001b[38;5;124;03mexpression.  The string or node provided may only consist of the following\u001b[39;00m\n\u001b[1;32m     58\u001b[0m \u001b[38;5;124;03mPython literal structures: strings, bytes, numbers, tuples, lists, dicts,\u001b[39;00m\n\u001b[1;32m     59\u001b[0m \u001b[38;5;124;03msets, booleans, and None.\u001b[39;00m\n\u001b[1;32m     60\u001b[0m \u001b[38;5;124;03m\"\"\"\u001b[39;00m\n\u001b[1;32m     61\u001b[0m \u001b[38;5;28;01mif\u001b[39;00m \u001b[38;5;28misinstance\u001b[39m(node_or_string, \u001b[38;5;28mstr\u001b[39m):\n\u001b[0;32m---> 62\u001b[0m     node_or_string \u001b[38;5;241m=\u001b[39m \u001b[43mparse\u001b[49m\u001b[43m(\u001b[49m\u001b[43mnode_or_string\u001b[49m\u001b[43m,\u001b[49m\u001b[43m \u001b[49m\u001b[43mmode\u001b[49m\u001b[38;5;241;43m=\u001b[39;49m\u001b[38;5;124;43m'\u001b[39;49m\u001b[38;5;124;43meval\u001b[39;49m\u001b[38;5;124;43m'\u001b[39;49m\u001b[43m)\u001b[49m\n\u001b[1;32m     63\u001b[0m \u001b[38;5;28;01mif\u001b[39;00m \u001b[38;5;28misinstance\u001b[39m(node_or_string, Expression):\n\u001b[1;32m     64\u001b[0m     node_or_string \u001b[38;5;241m=\u001b[39m node_or_string\u001b[38;5;241m.\u001b[39mbody\n",
      "File \u001b[0;32m/opt/anaconda3/envs/ss/lib/python3.9/ast.py:50\u001b[0m, in \u001b[0;36mparse\u001b[0;34m(source, filename, mode, type_comments, feature_version)\u001b[0m\n\u001b[1;32m     48\u001b[0m     feature_version \u001b[38;5;241m=\u001b[39m \u001b[38;5;241m-\u001b[39m\u001b[38;5;241m1\u001b[39m\n\u001b[1;32m     49\u001b[0m \u001b[38;5;66;03m# Else it should be an int giving the minor version for 3.x.\u001b[39;00m\n\u001b[0;32m---> 50\u001b[0m \u001b[38;5;28;01mreturn\u001b[39;00m \u001b[38;5;28;43mcompile\u001b[39;49m\u001b[43m(\u001b[49m\u001b[43msource\u001b[49m\u001b[43m,\u001b[49m\u001b[43m \u001b[49m\u001b[43mfilename\u001b[49m\u001b[43m,\u001b[49m\u001b[43m \u001b[49m\u001b[43mmode\u001b[49m\u001b[43m,\u001b[49m\u001b[43m \u001b[49m\u001b[43mflags\u001b[49m\u001b[43m,\u001b[49m\n\u001b[1;32m     51\u001b[0m \u001b[43m               \u001b[49m\u001b[43m_feature_version\u001b[49m\u001b[38;5;241;43m=\u001b[39;49m\u001b[43mfeature_version\u001b[49m\u001b[43m)\u001b[49m\n",
      "\u001b[0;31mKeyboardInterrupt\u001b[0m: "
     ]
    }
   ],
   "source": [
    "trigger_type = \"blink\"\n",
    "dataset=\"mnist\"\n",
    "epsilon=1\n",
    "pos=\"top-left\"\n",
    "polarity=1\n",
    "trigger_size=0.1\n",
    "frame_gaps = [2,3,4,5,6,7,8]\n",
    "for frame_gap in frame_gaps:\n",
    "    poisoned_train_data = PoisonedDataset(train_set,0, mode='train', epsilon=1,\n",
    "                                pos=pos, attack_type=trigger_type, time_step=16,\n",
    "                                trigger_size=trigger_size, dataname=dataset,\n",
    "                                polarity=polarity, n_masks=2, least=True, most_polarity=True, frame_gap = frame_gap)\n",
    "    average_ssim_value = calculate_average_ssim(clean_data, poisoned_train_data.data)\n",
    "    average_ssim_value = float(average_ssim_value)\n",
    "    print(\"Average SSIM:\", average_ssim_value) \n",
    "    save_result(dataset, epsilon,pos, polarity, trigger_size , trigger_type,\n",
    "                        frame_gap, average_ssim_value)"
   ]
  },
  {
   "cell_type": "code",
   "execution_count": 8,
   "metadata": {},
   "outputs": [
    {
     "name": "stdout",
     "output_type": "stream",
     "text": [
      "[!] Generating train Bad Imgs\n",
      "Save frames to [backdoor_moving.gif].\n",
      "Injecting Over: Bad Imgs: 10000. Clean Imgs: 0. Epsilon: 1\n",
      "Average SSIM: 0.9945685267448425\n"
     ]
    }
   ],
   "source": [
    "trigger_type = \"moving\"\n",
    "dataset=\"mnist\"\n",
    "epsilon=1\n",
    "pos=\"top-left\"\n",
    "polarity=1\n",
    "trigger_size=0.1\n",
    "frame_gap = 1\n",
    "poisoned_train_data = PoisonedDataset(train_set,0, mode='train', epsilon=1,\n",
    "                            pos=pos, attack_type=trigger_type, time_step=16,\n",
    "                            trigger_size=trigger_size, dataname=dataset,\n",
    "                            polarity=polarity, n_masks=2, least=True, most_polarity=True, frame_gap = frame_gap)\n",
    "average_ssim_value = calculate_average_ssim(clean_data, poisoned_train_data.data)\n",
    "average_ssim_value = float(average_ssim_value)\n",
    "print(\"Average SSIM:\", average_ssim_value) \n",
    "save_result(dataset, epsilon,pos, polarity, trigger_size , trigger_type,\n",
    "                    frame_gap, average_ssim_value)"
   ]
  },
  {
   "cell_type": "code",
   "execution_count": 7,
   "metadata": {},
   "outputs": [
    {
     "ename": "IndexError",
     "evalue": "index 11121 is out of bounds for axis 0 with size 10000",
     "output_type": "error",
     "traceback": [
      "\u001b[0;31m---------------------------------------------------------------------------\u001b[0m",
      "\u001b[0;31mIndexError\u001b[0m                                Traceback (most recent call last)",
      "Cell \u001b[0;32mIn[7], line 4\u001b[0m\n\u001b[1;32m      1\u001b[0m \u001b[38;5;28;01mfrom\u001b[39;00m \u001b[38;5;21;01mspikingjelly\u001b[39;00m\u001b[38;5;21;01m.\u001b[39;00m\u001b[38;5;21;01mdatasets\u001b[39;00m \u001b[38;5;28;01mimport\u001b[39;00m play_frame\n\u001b[0;32m----> 4\u001b[0m play_frame(\u001b[43mclean_data\u001b[49m\u001b[43m[\u001b[49m\u001b[38;5;241;43m11121\u001b[39;49m\u001b[43m]\u001b[49m,\u001b[38;5;124m\"\u001b[39m\u001b[38;5;124mc.gif\u001b[39m\u001b[38;5;124m\"\u001b[39m)\n\u001b[1;32m      5\u001b[0m play_frame(poisoned_train_data\u001b[38;5;241m.\u001b[39mdata[\u001b[38;5;241m11121\u001b[39m], \u001b[38;5;124m\"\u001b[39m\u001b[38;5;124mp.gif\u001b[39m\u001b[38;5;124m\"\u001b[39m)\n",
      "\u001b[0;31mIndexError\u001b[0m: index 11121 is out of bounds for axis 0 with size 10000"
     ]
    }
   ],
   "source": [
    "# from spikingjelly.datasets import play_frame\n",
    "\n",
    "            \n",
    "# play_frame(clean_data[11121],\"c.gif\")\n",
    "# play_frame(poisoned_train_data.data[11121], \"p.gif\")\n"
   ]
  },
  {
   "cell_type": "code",
   "execution_count": null,
   "metadata": {},
   "outputs": [],
   "source": [
    "# print(\"Average SSIM:\", float(average_ssim_value))"
   ]
  }
 ],
 "metadata": {
  "kernelspec": {
   "display_name": "ss",
   "language": "python",
   "name": "python3"
  },
  "language_info": {
   "codemirror_mode": {
    "name": "ipython",
    "version": 3
   },
   "file_extension": ".py",
   "mimetype": "text/x-python",
   "name": "python",
   "nbconvert_exporter": "python",
   "pygments_lexer": "ipython3",
   "version": "3.9.19"
  }
 },
 "nbformat": 4,
 "nbformat_minor": 2
}
