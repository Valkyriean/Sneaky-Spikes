{
 "cells": [
  {
   "cell_type": "code",
   "execution_count": 1,
   "metadata": {},
   "outputs": [],
   "source": [
    "import torch\n",
    "import torch.nn.functional as F\n",
    "from poisoned_dataset import PoisonedDataset\n",
    "from datasets import get_dataset\n",
    "import numpy as np\n",
    "from spikingjelly.datasets.n_mnist import NMNIST\n",
    "import copy\n",
    "import os\n",
    "import csv"
   ]
  },
  {
   "cell_type": "code",
   "execution_count": 2,
   "metadata": {},
   "outputs": [],
   "source": [
    "def ssim(img1, img2, C1=0.01**2, C2=0.03**2):\n",
    "    \"\"\"\n",
    "    Compute SSIM (Structural Similarity Index) between two images.\n",
    "    :param img1: First image (torch tensor)\n",
    "    :param img2: Second image (torch tensor)\n",
    "    :param C1: Stabilization constant 1\n",
    "    :param C2: Stabilization constant 2\n",
    "    :return: SSIM value\n",
    "    \"\"\"\n",
    "    mu1 = F.avg_pool2d(img1, 3, 1, 0)\n",
    "    mu2 = F.avg_pool2d(img2, 3, 1, 0)\n",
    "    \n",
    "    sigma1 = F.avg_pool2d(img1 * img1, 3, 1, 0) - mu1 * mu1\n",
    "    sigma2 = F.avg_pool2d(img2 * img2, 3, 1, 0) - mu2 * mu2\n",
    "    sigma12 = F.avg_pool2d(img1 * img2, 3, 1, 0) - mu1 * mu2\n",
    "\n",
    "    ssim_map = ((2 * mu1 * mu2 + C1) * (2 * sigma12 + C2)) / ((mu1 * mu1 + mu2 * mu2 + C1) * (sigma1 + sigma2 + C2))\n",
    "    return ssim_map.mean()\n",
    "\n",
    "def calculate_average_ssim(data_clean, data_backdoored):\n",
    "    \"\"\"\n",
    "    Calculate the average SSIM over all samples, frames, and polarities.\n",
    "    :param data_clean: Clean data (numpy array of shape [N, T, C, H, W])\n",
    "    :param data_backdoored: Backdoored data (numpy array of shape [N, T, C, H, W])\n",
    "    :return: Average SSIM value\n",
    "    \"\"\"\n",
    "    if not torch.is_tensor(data_clean):\n",
    "        data_clean = torch.tensor(data_clean, dtype=torch.float32)\n",
    "    if not torch.is_tensor(data_backdoored):\n",
    "        data_backdoored = torch.tensor(data_backdoored, dtype=torch.float32)\n",
    "\n",
    "    N, T, C, H, W = data_clean.shape\n",
    "    total_ssim = 0.0\n",
    "    count = 0\n",
    "    \n",
    "    for i in range(N):\n",
    "        for t in range(T):\n",
    "            for c in range(C):\n",
    "                img_clean = data_clean[i, t, c].unsqueeze(0).unsqueeze(0)\n",
    "                img_backdoored = data_backdoored[i, t, c].unsqueeze(0).unsqueeze(0)\n",
    "                total_ssim += ssim(img_clean, img_backdoored)\n",
    "                count += 1\n",
    "                \n",
    "    average_ssim = total_ssim / count\n",
    "    return average_ssim"
   ]
  },
  {
   "cell_type": "code",
   "execution_count": 12,
   "metadata": {},
   "outputs": [],
   "source": [
    "def save_result(dataset, epsilon,pos, polarity, trigger_size , trigger_type,\n",
    "                            frame_gap, ssim):\n",
    "    save_path = \"experiments\"\n",
    "    # Create a folder for the experiments, by default named 'experiments'\n",
    "    if not os.path.exists(save_path):\n",
    "        os.makedirs(save_path)\n",
    "\n",
    "    # Create if not exists a csv file, appending the new info\n",
    "    path = '{}/ssim_results.csv'.format(save_path)\n",
    "    header = ['dataset', 'epsilon', 'pos','polarity', 'trigger_size','type', 'frame_gaps', \"ssim\"]\n",
    "\n",
    "    if not os.path.exists(path):\n",
    "        with open(path, 'w') as f:\n",
    "            writer = csv.writer(f)\n",
    "            writer.writerow(header)\n",
    "\n",
    "    # Append the new info to the csv file\n",
    "    with open(path, 'a') as f:\n",
    "        writer = csv.writer(f)\n",
    "        writer.writerow([dataset, epsilon,pos, polarity, trigger_size , trigger_type,\n",
    "                            frame_gap, ssim])"
   ]
  },
  {
   "cell_type": "code",
   "execution_count": 13,
   "metadata": {},
   "outputs": [
    {
     "name": "stdout",
     "output_type": "stream",
     "text": [
      "The directory [data/mnist\\frames_number_16_split_by_number] already exists.\n"
     ]
    }
   ],
   "source": [
    "train_set = NMNIST(\"data/mnist\", train=True, data_type='frame',\n",
    "                           split_by='number', frames_number=16)\n",
    "\n",
    "clean_data = np.array([np.array(x[0])for x in train_set])\n",
    "# print(clean_data.shape)\n",
    "\n",
    "# clean_train_data = PoisonedDataset(train_set,0, mode='train', epsilon=0,\n",
    "#                                  pos=\"top-left\", attack_type=\"static\", time_step=16,\n",
    "#                                  trigger_size=0.1, dataname=\"mnist\",\n",
    "#                                  polarity=1, n_masks=2, least=True, most_polarity=True, frame_gap = 1)\n",
    "# poisoned_train_data = PoisonedDataset(train_set,0, mode='train', epsilon=1,\n",
    "#                                  pos=\"top-left\", attack_type=\"static\", time_step=16,\n",
    "#                                  trigger_size=0.1, dataname=\"mnist\",\n",
    "#                                  polarity=1, n_masks=2, least=True, most_polarity=True, frame_gap = 1)"
   ]
  },
  {
   "cell_type": "code",
   "execution_count": 5,
   "metadata": {},
   "outputs": [
    {
     "name": "stdout",
     "output_type": "stream",
     "text": [
      "[!] Generating train Bad Imgs\n",
      "Save frames to [backdoor_static.gif].\n",
      "Injecting Over: Bad Imgs: 10000. Clean Imgs: 0. Epsilon: 1\n",
      "Average SSIM: 0.9952746033668518\n",
      "[!] Generating train Bad Imgs\n",
      "Save frames to [backdoor_rs.gif].\n",
      "Injecting Over: Bad Imgs: 10000. Clean Imgs: 0. Epsilon: 1\n",
      "Average SSIM: 0.9939156174659729\n"
     ]
    }
   ],
   "source": [
    "exp1_types = [\"static\", \"rs\"]\n",
    "epsilons = []\n",
    "dataset=\"mnist\"\n",
    "epsilon=1\n",
    "pos=\"top-left\"\n",
    "polarity=1\n",
    "trigger_size=0.1\n",
    "frame_gap = 1\n",
    "for trigger_type in exp1_types:\n",
    "    poisoned_train_data = PoisonedDataset(train_set,0, mode='train', epsilon=1,\n",
    "                                 pos=\"top-left\", attack_type=trigger_type, time_step=16,\n",
    "                                 trigger_size=0.1, dataname=\"mnist\",\n",
    "                                 polarity=1, n_masks=2, least=True, most_polarity=True, frame_gap = 1)\n",
    "    average_ssim_value = calculate_average_ssim(clean_data, poisoned_train_data.data)\n",
    "    average_ssim_value = float(average_ssim_value)\n",
    "    print(\"Average SSIM:\", average_ssim_value) \n",
    "    save_result(dataset, epsilon,pos, polarity, trigger_size , trigger_type,\n",
    "                            frame_gap, average_ssim_value)\n"
   ]
  },
  {
   "cell_type": "code",
   "execution_count": 14,
   "metadata": {},
   "outputs": [
    {
     "name": "stdout",
     "output_type": "stream",
     "text": [
      "[!] Generating train Bad Imgs\n",
      "Save frames to [backdoor_static.gif].\n",
      "Injecting Over: Bad Imgs: 60000. Clean Imgs: 0. Epsilon: 1\n",
      "Average SSIM: 0.9999917149543762\n"
     ]
    }
   ],
   "source": [
    "trigger_type = \"static\"\n",
    "dataset=\"mnist\"\n",
    "epsilon=1\n",
    "pos=\"top-left\"\n",
    "polarity=3\n",
    "trigger_size=0.01\n",
    "frame_gap = 2\n",
    "poisoned_train_data = PoisonedDataset(train_set,0, mode='train', epsilon=1,\n",
    "                                pos=pos, attack_type=trigger_type, time_step=16,\n",
    "                                trigger_size=trigger_size, dataname=dataset,\n",
    "                                polarity=polarity, n_masks=2, least=True, most_polarity=True, frame_gap = frame_gap)\n",
    "average_ssim_value = calculate_average_ssim(clean_data, poisoned_train_data.data)\n",
    "average_ssim_value = float(average_ssim_value)\n",
    "print(\"Average SSIM:\", average_ssim_value) \n",
    "save_result(dataset, epsilon,pos, polarity, trigger_size , trigger_type,\n",
    "                        frame_gap, average_ssim_value)"
   ]
  },
  {
   "cell_type": "code",
   "execution_count": 17,
   "metadata": {},
   "outputs": [
    {
     "name": "stdout",
     "output_type": "stream",
     "text": [
      "Save frames to [c.gif].\n",
      "Save frames to [p.gif].\n"
     ]
    }
   ],
   "source": [
    "from spikingjelly.datasets import play_frame\n",
    "\n",
    "            \n",
    "play_frame(clean_data[11121],\"c.gif\")\n",
    "play_frame(poisoned_train_data.data[11121], \"p.gif\")\n"
   ]
  },
  {
   "cell_type": "code",
   "execution_count": 7,
   "metadata": {},
   "outputs": [],
   "source": [
    "# print(\"Average SSIM:\", float(average_ssim_value))"
   ]
  }
 ],
 "metadata": {
  "kernelspec": {
   "display_name": "ss",
   "language": "python",
   "name": "python3"
  },
  "language_info": {
   "codemirror_mode": {
    "name": "ipython",
    "version": 3
   },
   "file_extension": ".py",
   "mimetype": "text/x-python",
   "name": "python",
   "nbconvert_exporter": "python",
   "pygments_lexer": "ipython3",
   "version": "3.9.19"
  }
 },
 "nbformat": 4,
 "nbformat_minor": 2
}
