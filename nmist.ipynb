{
 "cells": [
  {
   "cell_type": "code",
   "execution_count": 3,
   "metadata": {},
   "outputs": [],
   "source": [
    "import torch\n",
    "import torch.nn as nn\n",
    "from spikingjelly.activation_based import layer, surrogate, neuron\n",
    "from copy import deepcopy\n",
    "from spikingjelly.datasets.n_mnist import NMNIST\n",
    "from torch.utils.data import Dataset, DataLoader\n",
    "from tqdm import tqdm\n",
    "import torch.nn.functional as F\n",
    "from torch.cuda import amp\n",
    "from spikingjelly.activation_based import functional\n",
    "from torch import optim\n",
    " "
   ]
  },
  {
   "cell_type": "code",
   "execution_count": 1,
   "metadata": {},
   "outputs": [
    {
     "name": "stdout",
     "output_type": "stream",
     "text": [
      "The directory [data/mnist\\frames_number_16_split_by_number] already exists.\n",
      "(10000, 16, 2, 34, 34)\n"
     ]
    }
   ],
   "source": [
    "from poisoned_dataset import PoisonedDataset\n",
    "from datasets import get_dataset\n",
    "import numpy as np\n",
    "from spikingjelly.datasets.n_mnist import NMNIST\n",
    "\n",
    "train_set = NMNIST(\"data/mnist\", train=False, data_type='frame',\n",
    "                           split_by='number', frames_number=16)\n",
    "\n",
    "\n",
    "data = np.array([np.array(x[0])for x in train_set])\n",
    "train_set = []\n",
    "print(data.shape)\n",
    "# clean_train_data = PoisonedDataset(train_data,0, mode='train', epsilon=0,\n",
    "#                                  pos=\"top-left\", attack_type=\"static\", time_step=16,\n",
    "#                                  trigger_size=0.1, dataname=\"mnist\",\n",
    "#                                  polarity=1, n_masks=2, least=True, most_polarity=True, frame_gap = 1)\n",
    "# poisoned_train_data = PoisonedDataset(train_data,0, mode='train', epsilon=1,\n",
    "#                                  pos=\"top-left\", attack_type=\"static\", time_step=16,\n",
    "#                                  trigger_size=0.1, dataname=\"mnist\",\n",
    "#                                  polarity=1, n_masks=2, least=True, most_polarity=True, frame_gap = 1)"
   ]
  },
  {
   "cell_type": "code",
   "execution_count": 2,
   "metadata": {},
   "outputs": [],
   "source": [
    "def create_static_trigger(pos, polarity , data, size_width, size_height, width, height):\n",
    "    # print(\"======>\",data.shape)\n",
    "    if pos == 'top-left':\n",
    "        x_begin = 0\n",
    "        x_end = size_width\n",
    "        y_begin = 0\n",
    "        y_end = size_height\n",
    "\n",
    "    elif pos == 'top-right':\n",
    "        x_begin = int(width - size_width)\n",
    "        x_end = width\n",
    "        y_begin = 0\n",
    "        y_end = size_height\n",
    "\n",
    "    elif pos == 'bottom-left':\n",
    "        x_begin = 0\n",
    "        x_end = size_width\n",
    "        y_begin = int(height - size_height)\n",
    "        y_end = height\n",
    "\n",
    "    elif pos == 'bottom-right':\n",
    "        x_begin = int(width - size_width)\n",
    "        x_end = width\n",
    "        y_begin = int(height - size_height)\n",
    "        y_end = height\n",
    "\n",
    "    elif pos == 'middle':\n",
    "        x_begin = int((width - size_width) / 2)\n",
    "        x_end = int((width + size_width) / 2)\n",
    "        y_begin = int((height - size_height) / 2)\n",
    "        y_end = int((height + size_height) / 2)\n",
    "\n",
    "    elif pos == 'random':\n",
    "        x_begin = np.random.randint(0, int(width-size_width))\n",
    "        x_end = x_begin + size_width\n",
    "        y_begin = np.random.randint(0, int(height - size_height))\n",
    "        y_end = y_begin + size_height\n",
    "\n",
    "    # The shape of the data is (N, T, C, H, W)\n",
    "    if polarity == 0:\n",
    "        data[:, :, :, y_begin:y_end, x_begin:x_end] = 0\n",
    "    elif polarity == 1:\n",
    "        data[:, :, 0, y_begin:y_end, x_begin:x_end] = 0\n",
    "        data[:, :, 1, y_begin:y_end, x_begin:x_end] = 1\n",
    "    elif polarity == 2:\n",
    "        data[:, :, 0, y_begin:y_end, x_begin:x_end] = 1\n",
    "        data[:, :, 1, y_begin:y_end, x_begin:x_end] = 0\n",
    "    else:\n",
    "        data[:, :, :, y_begin:y_end, x_begin:x_end] = 1\n",
    "\n",
    "    return data"
   ]
  },
  {
   "cell_type": "code",
   "execution_count": 3,
   "metadata": {},
   "outputs": [
    {
     "name": "stdout",
     "output_type": "stream",
     "text": [
      "(10000, 16, 2, 34, 34)\n"
     ]
    }
   ],
   "source": [
    "poison = create_static_trigger(\"top-left\", 1 , data, 3, 3, 34, 34)\n",
    "print(poison.shape)"
   ]
  },
  {
   "cell_type": "code",
   "execution_count": 12,
   "metadata": {},
   "outputs": [],
   "source": [
    "import torch\n",
    "import torch.nn.functional as F\n",
    "\n",
    "def ssim(img1, img2, C1=0.01**2, C2=0.03**2):\n",
    "    \"\"\"\n",
    "    Compute SSIM (Structural Similarity Index) between two images.\n",
    "    :param img1: First image (torch tensor)\n",
    "    :param img2: Second image (torch tensor)\n",
    "    :param C1: Stabilization constant 1\n",
    "    :param C2: Stabilization constant 2\n",
    "    :return: SSIM value\n",
    "    \"\"\"\n",
    "    mu1 = F.avg_pool2d(img1, 3, 1, 0)\n",
    "    mu2 = F.avg_pool2d(img2, 3, 1, 0)\n",
    "    \n",
    "    sigma1 = F.avg_pool2d(img1 * img1, 3, 1, 0) - mu1 * mu1\n",
    "    sigma2 = F.avg_pool2d(img2 * img2, 3, 1, 0) - mu2 * mu2\n",
    "    sigma12 = F.avg_pool2d(img1 * img2, 3, 1, 0) - mu1 * mu2\n",
    "\n",
    "    ssim_map = ((2 * mu1 * mu2 + C1) * (2 * sigma12 + C2)) / ((mu1 * mu1 + mu2 * mu2 + C1) * (sigma1 + sigma2 + C2))\n",
    "    return ssim_map.mean()\n",
    "\n",
    "def calculate_average_ssim(data_clean, data_backdoored):\n",
    "    \"\"\"\n",
    "    Calculate the average SSIM over all samples, frames, and polarities.\n",
    "    :param data_clean: Clean data (numpy array of shape [N, T, C, H, W])\n",
    "    :param data_backdoored: Backdoored data (numpy array of shape [N, T, C, H, W])\n",
    "    :return: Average SSIM value\n",
    "    \"\"\"\n",
    "    data_clean = torch.tensor(data_clean, dtype=torch.float32)\n",
    "    data_backdoored = torch.tensor(data_backdoored, dtype=torch.float32)\n",
    "    \n",
    "    N, T, C, H, W = data_clean.shape\n",
    "    total_ssim = 0.0\n",
    "    count = 0\n",
    "    \n",
    "    for i in range(N):\n",
    "        for t in range(T):\n",
    "            for c in range(C):\n",
    "                img_clean = data_clean[i, t, c].unsqueeze(0).unsqueeze(0)\n",
    "                img_backdoored = data_backdoored[i, t, c].unsqueeze(0).unsqueeze(0)\n",
    "                total_ssim += ssim(img_clean, img_backdoored)\n",
    "                count += 1\n",
    "                \n",
    "    average_ssim = total_ssim / count\n",
    "    return average_ssim\n"
   ]
  },
  {
   "cell_type": "code",
   "execution_count": 13,
   "metadata": {},
   "outputs": [
    {
     "name": "stdout",
     "output_type": "stream",
     "text": [
      "Average SSIM: tensor(1.)\n"
     ]
    }
   ],
   "source": [
    "average_ssim_value = calculate_average_ssim(data, poison)\n",
    "print(\"Average SSIM:\", average_ssim_value)"
   ]
  },
  {
   "cell_type": "code",
   "execution_count": 4,
   "metadata": {},
   "outputs": [],
   "source": [
    "frames_number = 16\n",
    "epochs=1\n",
    "batch_size=64\n",
    "lr=0.001\n",
    "device = torch.device('cuda' if torch.cuda.is_available() else 'cpu')\n",
    "scaler = None"
   ]
  },
  {
   "cell_type": "code",
   "execution_count": 5,
   "metadata": {},
   "outputs": [],
   "source": [
    "\n",
    "class MNISTNet(nn.Module):\n",
    "    def __init__(self, channels=128, spiking_neuron: callable = None, **kwargs):\n",
    "        super().__init__()\n",
    "\n",
    "        self.conv_fc = nn.Sequential(\n",
    "            layer.Conv2d(1, channels, kernel_size=3, padding=1, bias=False),\n",
    "            layer.BatchNorm2d(channels),\n",
    "            spiking_neuron(**deepcopy(kwargs)),\n",
    "            layer.MaxPool2d(2, 2),\n",
    "\n",
    "            layer.Conv2d(channels, channels, kernel_size=3,\n",
    "                         padding=1, bias=False),\n",
    "            layer.BatchNorm2d(channels),\n",
    "            spiking_neuron(**deepcopy(kwargs)),\n",
    "            layer.MaxPool2d(2, 2),\n",
    "\n",
    "            layer.Flatten(),\n",
    "            layer.Dropout(0.5),\n",
    "            layer.Linear(channels * 7 * 7, 2048),\n",
    "            spiking_neuron(**deepcopy(kwargs)),\n",
    "            layer.Dropout(0.5),\n",
    "            layer.Linear(2048, 100),\n",
    "            spiking_neuron(**deepcopy(kwargs)),\n",
    "            layer.VotingLayer()\n",
    "        )\n",
    "\n",
    "    def forward(self, x: torch.Tensor):\n",
    "        return self.conv_fc(x)\n",
    "\n",
    "\n",
    "class NMNISTNet(MNISTNet):\n",
    "    def __init__(self, channels=128, spiking_neuron: callable = None, **kwargs):\n",
    "        super().__init__(channels, spiking_neuron, **kwargs)\n",
    "        self.conv_fc[0] = layer.Conv2d(\n",
    "            2, channels, kernel_size=3, padding=1, bias=False)\n",
    "        self.conv_fc[-6] = layer.Linear(channels * 8 * 8, 2048)"
   ]
  },
  {
   "cell_type": "code",
   "execution_count": 7,
   "metadata": {},
   "outputs": [
    {
     "name": "stdout",
     "output_type": "stream",
     "text": [
      "The directory [data/mnist\\frames_number_16_split_by_number] already exists.\n",
      "The directory [data/mnist\\frames_number_16_split_by_number] already exists.\n"
     ]
    }
   ],
   "source": [
    "train_set = NMNIST(\"data/mnist\", train=True, data_type='frame',\n",
    "                           split_by='number', frames_number=frames_number)\n",
    "\n",
    "test_set = NMNIST(\"data/mnist\", train=False, data_type='frame',\n",
    "                          split_by='number', frames_number=frames_number)\n",
    "\n",
    "train_data_loader = DataLoader(\n",
    "        dataset=train_set, batch_size=batch_size, shuffle=True, num_workers=1)\n",
    "test_data_loader = DataLoader(\n",
    "        dataset=test_set, batch_size=batch_size, shuffle=False, num_workers=1)"
   ]
  },
  {
   "cell_type": "code",
   "execution_count": 8,
   "metadata": {},
   "outputs": [],
   "source": [
    "model = NMNISTNet(spiking_neuron=neuron.IFNode,surrogate_function=surrogate.ATan(),  detach_reset=True)"
   ]
  },
  {
   "cell_type": "code",
   "execution_count": 9,
   "metadata": {},
   "outputs": [],
   "source": [
    "\n",
    "def train(model, train_loader, optimizer, criterion, device, scaler=None, scheduler=None):\n",
    "    # Train the model\n",
    "    model.train()\n",
    "    train_loss = 0\n",
    "    train_acc = 0\n",
    "    train_samples = 0\n",
    "    try:\n",
    "        n_classes = len(train_loader.dataset.classes)\n",
    "    except:\n",
    "        n_classes = 10\n",
    "\n",
    "    for frame, label in tqdm(train_loader):\n",
    "        optimizer.zero_grad()\n",
    "        frame = frame.to(device)\n",
    "        frame = frame.transpose(0, 1)  # [N, T, C, H, W] -> [T, N, C, H, W]\n",
    "        label = label.to(device)\n",
    "        # If label is not one-hot,\n",
    "        if len(label.shape) == 1:\n",
    "            label = F.one_hot(label, n_classes).float()\n",
    "\n",
    "        if scaler is not None:\n",
    "            with amp.autocast():\n",
    "                # Mean is important; (https://spikingjelly.readthedocs.io/zh_CN/latest/activation_based_en/conv_fashion_mnist.html)\n",
    "                # we need to average the output in the time-step dimension to get the firing rates,\n",
    "                # and then calculate the loss and accuracy by the firing rates\n",
    "                out_fr = model(frame).mean(0)\n",
    "                loss = criterion(out_fr, label)\n",
    "            scaler.scale(loss).backward()\n",
    "            scaler.step(optimizer)\n",
    "            scaler.update()\n",
    "        else:\n",
    "            out_fr = model(frame).mean(0)\n",
    "            loss = criterion(out_fr, label)\n",
    "            loss.backward()\n",
    "            optimizer.step()\n",
    "\n",
    "        label = label.argmax(1)\n",
    "        train_samples += label.numel()\n",
    "        train_loss += loss.item() * label.numel()\n",
    "        train_acc += (out_fr.argmax(1) == label).float().sum().item()\n",
    "\n",
    "        functional.reset_net(model)\n",
    "\n",
    "    train_loss /= train_samples\n",
    "    train_acc /= train_samples\n",
    "\n",
    "    if scheduler is not None:\n",
    "        scheduler.step()\n",
    "\n",
    "    return train_loss, train_acc\n",
    "\n",
    "\n",
    "def evaluate(model, test_loader, criterion, device):\n",
    "    model.eval()\n",
    "    test_loss = 0\n",
    "    test_acc = 0\n",
    "    test_samples = 0\n",
    "    with torch.no_grad():\n",
    "        for frame, label in tqdm(test_loader):\n",
    "            frame = frame.to(device)\n",
    "            # [N, T, C, H, W] -> [T, N, C, H, W]\n",
    "            frame = frame.transpose(0, 1)\n",
    "            label = label.to(device)\n",
    "            # label_onehot = F.one_hot(label, 11).float()\n",
    "            out_fr = model(frame).mean(0)\n",
    "            loss = criterion(out_fr, label)\n",
    "\n",
    "            label = label.argmax(1)\n",
    "            test_samples += label.numel()\n",
    "            test_loss += loss.item() * label.numel()\n",
    "            test_acc += (out_fr.argmax(1) == label).float().sum().item()\n",
    "\n",
    "            functional.reset_net(model)\n",
    "\n",
    "    test_loss /= test_samples\n",
    "    test_acc /= test_samples\n",
    "\n",
    "    return test_loss, test_acc"
   ]
  },
  {
   "cell_type": "code",
   "execution_count": 11,
   "metadata": {},
   "outputs": [
    {
     "name": "stdout",
     "output_type": "stream",
     "text": [
      "\n",
      "[!] Training the model for 1 epochs\n",
      "\n",
      "[!] Trainset size is 60000,Testset size is 10000\n"
     ]
    },
    {
     "name": "stderr",
     "output_type": "stream",
     "text": [
      "100%|██████████| 938/938 [08:31<00:00,  1.83it/s]\n",
      "  0%|          | 0/157 [00:00<?, ?it/s]c:\\Users\\jiachen\\anaconda3\\envs\\js\\lib\\site-packages\\torch\\nn\\modules\\loss.py:535: UserWarning: Using a target size (torch.Size([64])) that is different to the input size (torch.Size([64, 10])). This will likely lead to incorrect results due to broadcasting. Please ensure they have the same size.\n",
      "  return F.mse_loss(input, target, reduction=self.reduction)\n",
      "  0%|          | 0/157 [00:08<?, ?it/s]\n"
     ]
    },
    {
     "ename": "RuntimeError",
     "evalue": "The size of tensor a (10) must match the size of tensor b (64) at non-singleton dimension 1",
     "output_type": "error",
     "traceback": [
      "\u001b[1;31m---------------------------------------------------------------------------\u001b[0m",
      "\u001b[1;31mRuntimeError\u001b[0m                              Traceback (most recent call last)",
      "Cell \u001b[1;32mIn[11], line 24\u001b[0m\n\u001b[0;32m     19\u001b[0m \u001b[38;5;28;01mfor\u001b[39;00m epoch \u001b[38;5;129;01min\u001b[39;00m \u001b[38;5;28mrange\u001b[39m(epochs):\n\u001b[0;32m     21\u001b[0m     train_loss, train_acc \u001b[38;5;241m=\u001b[39m train(\n\u001b[0;32m     22\u001b[0m         model, train_data_loader, optimizer, criterion, device, scaler, scheduler)\n\u001b[1;32m---> 24\u001b[0m     test_loss_clean, test_acc_clean \u001b[38;5;241m=\u001b[39m \u001b[43mevaluate\u001b[49m\u001b[43m(\u001b[49m\n\u001b[0;32m     25\u001b[0m \u001b[43m        \u001b[49m\u001b[43mmodel\u001b[49m\u001b[43m,\u001b[49m\u001b[43m \u001b[49m\u001b[43mtest_data_loader\u001b[49m\u001b[43m,\u001b[49m\u001b[43m \u001b[49m\u001b[43mcriterion\u001b[49m\u001b[43m,\u001b[49m\u001b[43m \u001b[49m\u001b[43mdevice\u001b[49m\u001b[43m)\u001b[49m\n\u001b[0;32m     28\u001b[0m     list_train_loss\u001b[38;5;241m.\u001b[39mappend(train_loss)\n\u001b[0;32m     29\u001b[0m     list_train_acc\u001b[38;5;241m.\u001b[39mappend(train_acc)\n",
      "Cell \u001b[1;32mIn[9], line 66\u001b[0m, in \u001b[0;36mevaluate\u001b[1;34m(model, test_loader, criterion, device)\u001b[0m\n\u001b[0;32m     64\u001b[0m \u001b[38;5;66;03m# label_onehot = F.one_hot(label, 11).float()\u001b[39;00m\n\u001b[0;32m     65\u001b[0m out_fr \u001b[38;5;241m=\u001b[39m model(frame)\u001b[38;5;241m.\u001b[39mmean(\u001b[38;5;241m0\u001b[39m)\n\u001b[1;32m---> 66\u001b[0m loss \u001b[38;5;241m=\u001b[39m \u001b[43mcriterion\u001b[49m\u001b[43m(\u001b[49m\u001b[43mout_fr\u001b[49m\u001b[43m,\u001b[49m\u001b[43m \u001b[49m\u001b[43mlabel\u001b[49m\u001b[43m)\u001b[49m\n\u001b[0;32m     68\u001b[0m label \u001b[38;5;241m=\u001b[39m label\u001b[38;5;241m.\u001b[39margmax(\u001b[38;5;241m1\u001b[39m)\n\u001b[0;32m     69\u001b[0m test_samples \u001b[38;5;241m+\u001b[39m\u001b[38;5;241m=\u001b[39m label\u001b[38;5;241m.\u001b[39mnumel()\n",
      "File \u001b[1;32mc:\\Users\\jiachen\\anaconda3\\envs\\js\\lib\\site-packages\\torch\\nn\\modules\\module.py:1532\u001b[0m, in \u001b[0;36mModule._wrapped_call_impl\u001b[1;34m(self, *args, **kwargs)\u001b[0m\n\u001b[0;32m   1530\u001b[0m     \u001b[38;5;28;01mreturn\u001b[39;00m \u001b[38;5;28mself\u001b[39m\u001b[38;5;241m.\u001b[39m_compiled_call_impl(\u001b[38;5;241m*\u001b[39margs, \u001b[38;5;241m*\u001b[39m\u001b[38;5;241m*\u001b[39mkwargs)  \u001b[38;5;66;03m# type: ignore[misc]\u001b[39;00m\n\u001b[0;32m   1531\u001b[0m \u001b[38;5;28;01melse\u001b[39;00m:\n\u001b[1;32m-> 1532\u001b[0m     \u001b[38;5;28;01mreturn\u001b[39;00m \u001b[38;5;28mself\u001b[39m\u001b[38;5;241m.\u001b[39m_call_impl(\u001b[38;5;241m*\u001b[39margs, \u001b[38;5;241m*\u001b[39m\u001b[38;5;241m*\u001b[39mkwargs)\n",
      "File \u001b[1;32mc:\\Users\\jiachen\\anaconda3\\envs\\js\\lib\\site-packages\\torch\\nn\\modules\\module.py:1541\u001b[0m, in \u001b[0;36mModule._call_impl\u001b[1;34m(self, *args, **kwargs)\u001b[0m\n\u001b[0;32m   1536\u001b[0m \u001b[38;5;66;03m# If we don't have any hooks, we want to skip the rest of the logic in\u001b[39;00m\n\u001b[0;32m   1537\u001b[0m \u001b[38;5;66;03m# this function, and just call forward.\u001b[39;00m\n\u001b[0;32m   1538\u001b[0m \u001b[38;5;28;01mif\u001b[39;00m \u001b[38;5;129;01mnot\u001b[39;00m (\u001b[38;5;28mself\u001b[39m\u001b[38;5;241m.\u001b[39m_backward_hooks \u001b[38;5;129;01mor\u001b[39;00m \u001b[38;5;28mself\u001b[39m\u001b[38;5;241m.\u001b[39m_backward_pre_hooks \u001b[38;5;129;01mor\u001b[39;00m \u001b[38;5;28mself\u001b[39m\u001b[38;5;241m.\u001b[39m_forward_hooks \u001b[38;5;129;01mor\u001b[39;00m \u001b[38;5;28mself\u001b[39m\u001b[38;5;241m.\u001b[39m_forward_pre_hooks\n\u001b[0;32m   1539\u001b[0m         \u001b[38;5;129;01mor\u001b[39;00m _global_backward_pre_hooks \u001b[38;5;129;01mor\u001b[39;00m _global_backward_hooks\n\u001b[0;32m   1540\u001b[0m         \u001b[38;5;129;01mor\u001b[39;00m _global_forward_hooks \u001b[38;5;129;01mor\u001b[39;00m _global_forward_pre_hooks):\n\u001b[1;32m-> 1541\u001b[0m     \u001b[38;5;28;01mreturn\u001b[39;00m forward_call(\u001b[38;5;241m*\u001b[39margs, \u001b[38;5;241m*\u001b[39m\u001b[38;5;241m*\u001b[39mkwargs)\n\u001b[0;32m   1543\u001b[0m \u001b[38;5;28;01mtry\u001b[39;00m:\n\u001b[0;32m   1544\u001b[0m     result \u001b[38;5;241m=\u001b[39m \u001b[38;5;28;01mNone\u001b[39;00m\n",
      "File \u001b[1;32mc:\\Users\\jiachen\\anaconda3\\envs\\js\\lib\\site-packages\\torch\\nn\\modules\\loss.py:535\u001b[0m, in \u001b[0;36mMSELoss.forward\u001b[1;34m(self, input, target)\u001b[0m\n\u001b[0;32m    534\u001b[0m \u001b[38;5;28;01mdef\u001b[39;00m \u001b[38;5;21mforward\u001b[39m(\u001b[38;5;28mself\u001b[39m, \u001b[38;5;28minput\u001b[39m: Tensor, target: Tensor) \u001b[38;5;241m-\u001b[39m\u001b[38;5;241m>\u001b[39m Tensor:\n\u001b[1;32m--> 535\u001b[0m     \u001b[38;5;28;01mreturn\u001b[39;00m \u001b[43mF\u001b[49m\u001b[38;5;241;43m.\u001b[39;49m\u001b[43mmse_loss\u001b[49m\u001b[43m(\u001b[49m\u001b[38;5;28;43minput\u001b[39;49m\u001b[43m,\u001b[49m\u001b[43m \u001b[49m\u001b[43mtarget\u001b[49m\u001b[43m,\u001b[49m\u001b[43m \u001b[49m\u001b[43mreduction\u001b[49m\u001b[38;5;241;43m=\u001b[39;49m\u001b[38;5;28;43mself\u001b[39;49m\u001b[38;5;241;43m.\u001b[39;49m\u001b[43mreduction\u001b[49m\u001b[43m)\u001b[49m\n",
      "File \u001b[1;32mc:\\Users\\jiachen\\anaconda3\\envs\\js\\lib\\site-packages\\torch\\nn\\functional.py:3365\u001b[0m, in \u001b[0;36mmse_loss\u001b[1;34m(input, target, size_average, reduce, reduction)\u001b[0m\n\u001b[0;32m   3362\u001b[0m \u001b[38;5;28;01mif\u001b[39;00m size_average \u001b[38;5;129;01mis\u001b[39;00m \u001b[38;5;129;01mnot\u001b[39;00m \u001b[38;5;28;01mNone\u001b[39;00m \u001b[38;5;129;01mor\u001b[39;00m reduce \u001b[38;5;129;01mis\u001b[39;00m \u001b[38;5;129;01mnot\u001b[39;00m \u001b[38;5;28;01mNone\u001b[39;00m:\n\u001b[0;32m   3363\u001b[0m     reduction \u001b[38;5;241m=\u001b[39m _Reduction\u001b[38;5;241m.\u001b[39mlegacy_get_string(size_average, reduce)\n\u001b[1;32m-> 3365\u001b[0m expanded_input, expanded_target \u001b[38;5;241m=\u001b[39m \u001b[43mtorch\u001b[49m\u001b[38;5;241;43m.\u001b[39;49m\u001b[43mbroadcast_tensors\u001b[49m\u001b[43m(\u001b[49m\u001b[38;5;28;43minput\u001b[39;49m\u001b[43m,\u001b[49m\u001b[43m \u001b[49m\u001b[43mtarget\u001b[49m\u001b[43m)\u001b[49m\n\u001b[0;32m   3366\u001b[0m \u001b[38;5;28;01mreturn\u001b[39;00m torch\u001b[38;5;241m.\u001b[39m_C\u001b[38;5;241m.\u001b[39m_nn\u001b[38;5;241m.\u001b[39mmse_loss(expanded_input, expanded_target, _Reduction\u001b[38;5;241m.\u001b[39mget_enum(reduction))\n",
      "File \u001b[1;32mc:\\Users\\jiachen\\anaconda3\\envs\\js\\lib\\site-packages\\torch\\functional.py:76\u001b[0m, in \u001b[0;36mbroadcast_tensors\u001b[1;34m(*tensors)\u001b[0m\n\u001b[0;32m     74\u001b[0m \u001b[38;5;28;01mif\u001b[39;00m has_torch_function(tensors):\n\u001b[0;32m     75\u001b[0m     \u001b[38;5;28;01mreturn\u001b[39;00m handle_torch_function(broadcast_tensors, tensors, \u001b[38;5;241m*\u001b[39mtensors)\n\u001b[1;32m---> 76\u001b[0m \u001b[38;5;28;01mreturn\u001b[39;00m \u001b[43m_VF\u001b[49m\u001b[38;5;241;43m.\u001b[39;49m\u001b[43mbroadcast_tensors\u001b[49m\u001b[43m(\u001b[49m\u001b[43mtensors\u001b[49m\u001b[43m)\u001b[49m\n",
      "\u001b[1;31mRuntimeError\u001b[0m: The size of tensor a (10) must match the size of tensor b (64) at non-singleton dimension 1"
     ]
    }
   ],
   "source": [
    "list_train_loss = []\n",
    "list_train_acc = []\n",
    "list_test_loss = []\n",
    "list_test_acc = []\n",
    "list_test_loss_backdoor = []\n",
    "list_test_acc_backdoor = []\n",
    "\n",
    "functional.set_step_mode(model, 'm')\n",
    "functional.set_backend(model, 'cupy', instance=neuron.LIFNode)\n",
    "model = model.to(device)\n",
    "optimizer = optim.Adam(model.parameters(), lr=lr)\n",
    "scheduler = optim.lr_scheduler.CosineAnnealingLR(optimizer, epochs)\n",
    "criterion = nn.MSELoss()\n",
    "\n",
    "print(f'\\n[!] Training the model for {epochs} epochs')\n",
    "print(f'\\n[!] Trainset size is {len(train_data_loader.dataset)},'\n",
    "        f'Testset size is {len(test_data_loader.dataset)}')\n",
    "\n",
    "for epoch in range(epochs):\n",
    "\n",
    "    train_loss, train_acc = train(\n",
    "        model, train_data_loader, optimizer, criterion, device, scaler, scheduler)\n",
    "\n",
    "    test_loss_clean, test_acc_clean = evaluate(\n",
    "        model, test_data_loader, criterion, device)\n",
    "\n",
    "\n",
    "    list_train_loss.append(train_loss)\n",
    "    list_train_acc.append(train_acc)\n",
    "    list_test_loss.append(test_loss_clean)\n",
    "    list_test_acc.append(test_acc_clean)\n",
    "\n",
    "\n",
    "    print(f'\\n[!] Epoch {epoch + 1}/{epochs} '\n",
    "            f'Train loss: {train_loss:.4f} '\n",
    "            f'Train acc: {train_acc:.4f} '\n",
    "            f'Test acc: {test_acc_clean:.4f} ')\n"
   ]
  }
 ],
 "metadata": {
  "kernelspec": {
   "display_name": "js",
   "language": "python",
   "name": "python3"
  },
  "language_info": {
   "codemirror_mode": {
    "name": "ipython",
    "version": 3
   },
   "file_extension": ".py",
   "mimetype": "text/x-python",
   "name": "python",
   "nbconvert_exporter": "python",
   "pygments_lexer": "ipython3",
   "version": "3.9.19"
  }
 },
 "nbformat": 4,
 "nbformat_minor": 2
}
